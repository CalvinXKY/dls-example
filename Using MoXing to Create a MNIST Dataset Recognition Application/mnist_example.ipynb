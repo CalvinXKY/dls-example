{
 "cells": [
  {
   "cell_type": "markdown",
   "metadata": {},
   "source": [
    "# 使用MoXing实现手写数字图像识别应用"
   ]
  },
  {
   "cell_type": "markdown",
   "metadata": {},
   "source": [
    "  &#160;&#160;本内容主要介绍，如何使用MoXing实现手写数字图像的训练、测试应用。\n",
    "\n",
    "### 1. 准备数据\n",
    "\n",
    "  &#160;&#160;从obs的mnist桶的mnist_data对象中下载MNIST数据集，并上传至私有的OBS桶中。\n",
    " &#160; &#160; 下载MNIST数据集， 数据集文件说明如下：\n",
    "- t10k-images-idx3-ubyte.gz：验证集，共包含10000个样本。\n",
    "- t10k-labels-idx1-ubyte.gz：验证集标签，共包含10000个样本的类别标签。\n",
    "- train-images-idx3-ubyte.gz：训练集，共包含60000个样本。\n",
    "- train-labels-idx1-ubyte.gz：训练集标签，共包含60000个样本的类别标签。\n",
    "\n",
    ".gz数据无需解压，分别上传至华为云OBS桶 （假设OBS桶路径为：s3://zzy/zzy/data/mnist/）。"
   ]
  },
  {
   "cell_type": "markdown",
   "metadata": {},
   "source": [
    "### 2. 训练模型\n",
    "\n",
    "  &#160;&#160;通过import加载moxing的tensorflow模块 moxing.tensorflow "
   ]
  },
  {
   "cell_type": "code",
   "execution_count": 1,
   "metadata": {},
   "outputs": [],
   "source": [
    "from tensorflow.examples.tutorials.mnist import input_data\n",
    "import tensorflow as tf\n",
    "import moxing.tensorflow as mox\n",
    "import os\n",
    "from __future__ import print_function\n",
    "from __future__ import unicode_literals"
   ]
  },
  {
   "cell_type": "markdown",
   "metadata": {},
   "source": [
    "**说明 1**  &#160; &#160; 函数 tf.flags.DEFINE_string('data_url', 's3://zzy/zzy/data/mnist', 'Dir of dataset')的第二个参数为数据路径。\n",
    "                  函数tf.flags.DEFINE_string('train_url', 's3://obs-dls-mnist-example/log/ ', 'Train Url') 的第二个参数为日志以及生产模型的存储路径。"
   ]
  },
  {
   "cell_type": "code",
   "execution_count": 2,
   "metadata": {},
   "outputs": [],
   "source": [
    "tf.flags.DEFINE_string('data_url', 's3://zzy/zzy/data/mnist', 'Dir of dataset')\n",
    "tf.flags.DEFINE_string('train_url', 's3://obs-dls-mnist-example/log/', 'Train Url')\n",
    "\n",
    "flags = tf.flags.FLAGS\n",
    "\n",
    "work_directory = flags.data_url\n",
    "filenames = ['train-images-idx3-ubyte.gz','train-labels-idx1-ubyte.gz','t10k-images-idx3-ubyte.gz',\n",
    "             't10k-labels-idx1-ubyte.gz']\n",
    "\n",
    "for filename in filenames:\n",
    "  filepath = os.path.join(work_directory, filename)\n",
    "  if not mox.file.exists(filepath):\n",
    "    raise ValueError('MNIST dataset file %s not found in %s' % (filepath, work_directory))"
   ]
  },
  {
   "cell_type": "markdown",
   "metadata": {},
   "source": [
    "  &#160;&#160;训练的main函数包含三个部分，输入定义、模型定义和运行。\n",
    "\n",
    "1） 输入函数：input_fn(run_mode, **kwargs) 用户可以根据自己的输入编写。本例中通过迭代的方式从数据集中取数据。\n",
    "\n",
    "\n",
    "2） 模型定义：def model_fn(inputs, run_mode, **kwargs): 模型结构定义函数，返回 mox.ModelSpec(），用户作业模式定义返回值。\n",
    "但需要满足如下条件：\n",
    "\n",
    " &#160;&#160; For run_mode == ModeKeys.TRAIN: `loss` is required.\n",
    "  \n",
    "  &#160;&#160;  For run_mode == ModeKeys.EVAL: `log_info` is required.\n",
    "  \n",
    "  &#160;&#160;  For run_mode == ModeKeys.PREDICT: `output_info` is required.\n",
    "  \n",
    "  &#160;&#160;  For run_mode == ModeKeys.EXPORT: `export_spec` is required.\n",
    "  \n",
    "\n",
    "3） 执行训练： mox.run(），训练的过程中可指定optimizer的一些设置，训练batch的大小等，设置内容如下：\n",
    "\n",
    "\n",
    " &#160;&#160; 输入函数， input_fn: An input_fn defined by user. Allows tfrecord or python data. Returns  input tensor list.\n",
    " \n",
    " &#160;&#160;  模型函数， model_fn: A model_fn defined by user. Returns `mox.ModelSpec`.\n",
    "  \n",
    "  &#160;&#160; optimizer定义， optimizer_fn: An optimizer_fn defined by user. Returns an optimizer.\n",
    "  \n",
    "  &#160;&#160; 运行模式选择， run_mode: Only takes mox.ModeKeys.TRAIN or mox.ModeKeys.EVAL or mox.ModeKeys.PREDICT\n",
    "  \n",
    "  &#160;&#160; batch大小设置， batch_size: Mini-batch size.\n",
    "  \n",
    " &#160;&#160;  是否自动化batch， auto_batch: If True, an extra dimension of batch_size will be expanded to the first\n",
    "                     dimension of the return value from `get_split`. Default to True.\n",
    "                     \n",
    "  &#160;&#160; 日志以及checkpoint保存位置， log_dir: The directory to save summaries and checkpoints.\n",
    "  \n",
    "  &#160;&#160; 最大数量，  max_number_of_steps: Maximum steps for each worker.\n",
    "                          \n",
    "  &#160;&#160; 日志打印， log_every_n_steps: Step period to print logs to std I/O.\n",
    "     \n",
    "  &#160;&#160; 是否输出模型， export_model: True or False. Where to export model after running the job.\n",
    "\n"
   ]
  },
  {
   "cell_type": "code",
   "execution_count": 3,
   "metadata": {},
   "outputs": [
    {
     "name": "stdout",
     "output_type": "stream",
     "text": [
      "Extracting s3://zzy/zzy/data/mnist/train-images-idx3-ubyte.gz\n",
      "Extracting s3://zzy/zzy/data/mnist/train-labels-idx1-ubyte.gz\n",
      "Extracting s3://zzy/zzy/data/mnist/t10k-images-idx3-ubyte.gz\n",
      "Extracting s3://zzy/zzy/data/mnist/t10k-labels-idx1-ubyte.gz\n",
      "INFO:tensorflow:Create CheckpointSaverHook.\n",
      "INFO:tensorflow:Restoring parameters from s3://obs-dls-mnist-example/log/model.ckpt-1000\n",
      "INFO:tensorflow:Running will end at step: 1000\n",
      "INFO:tensorflow:Saving checkpoints for 1000 into s3://obs-dls-mnist-example/log/model.ckpt.\n",
      "INFO:tensorflow:No assets to save.\n",
      "INFO:tensorflow:No assets to write.\n",
      "INFO:tensorflow:Restoring parameters from s3://obs-dls-mnist-example/log/model.ckpt-1000\n",
      "INFO:tensorflow:SavedModel written to: s3://obs-dls-mnist-example/log/model/saved_model.pb\n"
     ]
    },
    {
     "ename": "SystemExit",
     "evalue": "",
     "output_type": "error",
     "traceback": [
      "An exception has occurred, use %tb to see the full traceback.\n",
      "\u001b[0;31mSystemExit\u001b[0m\n"
     ]
    },
    {
     "name": "stderr",
     "output_type": "stream",
     "text": [
      "/home/work/anaconda2/lib/python2.7/site-packages/IPython/core/interactiveshell.py:2890: UserWarning: To exit: use 'exit', 'quit', or Ctrl-D.\n",
      "  warn(\"To exit: use 'exit', 'quit', or Ctrl-D.\", stacklevel=1)\n"
     ]
    }
   ],
   "source": [
    "def main(*args):\n",
    "  mnist = input_data.read_data_sets(flags.data_url, one_hot=True)\n",
    "\n",
    "\n",
    "  # define the input dataset, return image and label\n",
    "  def input_fn(run_mode, **kwargs):\n",
    "    def gen():\n",
    "      while True:\n",
    "        yield mnist.train.next_batch(50)\n",
    "    ds = tf.data.Dataset.from_generator(\n",
    "        gen, output_types=(tf.float32, tf.int64),\n",
    "        output_shapes=(tf.TensorShape([None, 784]), tf.TensorShape([None, 10])))\n",
    "    return ds.make_one_shot_iterator().get_next()\n",
    "\n",
    "\n",
    "  # define the model for training or evaling.\n",
    "  def model_fn(inputs, run_mode, **kwargs):\n",
    "    x, y_ = inputs\n",
    "    W = tf.get_variable(name='W', initializer=tf.zeros([784, 10]))\n",
    "    b = tf.get_variable(name='b', initializer=tf.zeros([10]))\n",
    "    y = tf.matmul(x, W) + b\n",
    "    cross_entropy = tf.reduce_mean(\n",
    "      tf.nn.softmax_cross_entropy_with_logits(labels=y_, logits=y))\n",
    "    predictions = tf.argmax(y, 1)\n",
    "    correct_predictions = tf.equal(predictions, tf.argmax(y_, 1))\n",
    "    accuracy = tf.reduce_mean(tf.cast(correct_predictions, tf.float32))\n",
    "    export_spec = mox.ExportSpec(inputs_dict={'images': x}, outputs_dict={'predictions': predictions}, version='model')\n",
    "    return mox.ModelSpec(loss=cross_entropy, log_info={'loss': cross_entropy, 'accuracy': accuracy},\n",
    "                         export_spec=export_spec)\n",
    "\n",
    "\n",
    "  mox.run(input_fn=input_fn,\n",
    "          model_fn=model_fn,\n",
    "          optimizer_fn=mox.get_optimizer_fn('sgd', learning_rate=0.01),\n",
    "          run_mode=mox.ModeKeys.TRAIN,\n",
    "          batch_size=50,\n",
    "          auto_batch=False,\n",
    "          log_dir=flags.train_url,\n",
    "          max_number_of_steps=1000,\n",
    "          log_every_n_steps=10,\n",
    "          export_model=mox.ExportKeys.TF_SERVING)\n",
    "\n",
    "if __name__ == '__main__':\n",
    "  tf.app.run(main=main)"
   ]
  },
  {
   "cell_type": "markdown",
   "metadata": {},
   "source": [
    "### 3. 预测\n",
    "\n"
   ]
  },
  {
   "cell_type": "markdown",
   "metadata": {},
   "source": [
    "   &#160;&#160;在上面训练的基础上，我们可以直接用训练的模型进行预测作业。如读取OBS桶中的数字图片进行识别（假设位置：'s3://obs-dls-mnist-example/7.jpg'）。input_fn 对输入图片进行简单处理，得到网络允许的输入tensor；model_fn定义一个预测内容，同时，还需定义一个对输出处理的函数output_fn，我们在改函数里对输出进行一个打印输出。\n",
    " \n",
    "  还需在 mox.run()函数中加入如下参数：\n",
    "  \n",
    "  &#160;&#160;   输出函数 output_fn: A callback with args of results from sess.run.\n",
    "   \n",
    "  &#160;&#160; 模型加载位置 checkpoint_path: Directory or file path of ckpt to restore when `run_mode` is 'evaluation'.\n",
    "                          Useless when `run_mode` is 'train'."
   ]
  },
  {
   "cell_type": "code",
   "execution_count": 7,
   "metadata": {},
   "outputs": [
    {
     "name": "stdout",
     "output_type": "stream",
     "text": [
      "INFO:tensorflow:Restoring parameters from s3://obs-dls-mnist-example/log/model.ckpt-1000\n",
      "The result： [7]\n",
      "INFO:tensorflow:\t[1 examples]\n"
     ]
    }
   ],
   "source": [
    "def predict(*args):\n",
    "  def input_fn(run_mode, **kwargs):\n",
    "    image = tf.read_file('s3://obs-dls-mnist-example/7.jpg')\n",
    "    img = tf.image.decode_jpeg(image, channels=1)\n",
    "    img = tf.image.resize_images(img, [28, 28], 0)\n",
    "    img = tf.reshape(img, [784])\n",
    "    return img\n",
    "\n",
    "  def model_fn(inputs, run_mode, **kwargs):\n",
    "    x = inputs\n",
    "    W1 = tf.get_variable(name='W', initializer=tf.zeros([784, 10]))\n",
    "    b1 = tf.get_variable(name='b', initializer=tf.zeros([10]))\n",
    "    y = tf.matmul(x, W1) + b1\n",
    "    predictions = tf.argmax(y, 1)\n",
    "    return mox.ModelSpec(output_info={'predict': predictions})\n",
    "\n",
    "  def output_fn(outputs):\n",
    "    for output in outputs:\n",
    "      result = output['predict']\n",
    "      print(\"The result：\",result)\n",
    "\n",
    "  mox.run(input_fn=input_fn,\n",
    "          model_fn=model_fn,\n",
    "          output_fn=output_fn,\n",
    "          run_mode=mox.ModeKeys.PREDICT,\n",
    "          batch_size=1,\n",
    "          auto_batch=False,\n",
    "          max_number_of_steps=1,\n",
    "          output_every_n_steps=1,\n",
    "          checkpoint_path=flags.train_url)\n",
    "predict()"
   ]
  },
  {
   "cell_type": "markdown",
   "metadata": {},
   "source": [
    "通过预测，我们能够看到结果输出。\n"
   ]
  }
 ],
 "metadata": {
  "kernelspec": {
   "display_name": "Python 3",
   "language": "python",
   "name": "python3"
  },
  "language_info": {
   "codemirror_mode": {
    "name": "ipython",
    "version": 3
   },
   "file_extension": ".py",
   "mimetype": "text/x-python",
   "name": "python",
   "nbconvert_exporter": "python",
   "pygments_lexer": "ipython3",
   "version": "3.7.0"
  }
 },
 "nbformat": 4,
 "nbformat_minor": 2
}
